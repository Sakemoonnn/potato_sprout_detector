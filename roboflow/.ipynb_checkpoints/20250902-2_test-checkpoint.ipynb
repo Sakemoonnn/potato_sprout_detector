{
 "cells": [
  {
   "cell_type": "code",
   "execution_count": 2,
   "id": "5c4efa6d-b227-499b-bcb0-48d3287f5002",
   "metadata": {},
   "outputs": [
    {
     "name": "stdout",
     "output_type": "stream",
     "text": [
      "loading Roboflow workspace...\n",
      "loading Roboflow project...\n",
      "✅ 模型載入成功！正在使用 GPU 進行加速...\n",
      "🚀 Webcam 已開啟，按下 'q' 鍵結束程式。\n"
     ]
    },
    {
     "ename": "AttributeError",
     "evalue": "module 'supervision.draw' has no attribute 'bounding_box'",
     "output_type": "error",
     "traceback": [
      "\u001b[1;31m---------------------------------------------------------------------------\u001b[0m",
      "\u001b[1;31mAttributeError\u001b[0m                            Traceback (most recent call last)",
      "Cell \u001b[1;32mIn[2], line 80\u001b[0m\n\u001b[0;32m     77\u001b[0m     \u001b[38;5;28mprint\u001b[39m(\u001b[38;5;124m\"\u001b[39m\u001b[38;5;124m👋 程式已結束。\u001b[39m\u001b[38;5;124m\"\u001b[39m)\n\u001b[0;32m     79\u001b[0m \u001b[38;5;28;01mif\u001b[39;00m \u001b[38;5;18m__name__\u001b[39m \u001b[38;5;241m==\u001b[39m \u001b[38;5;124m\"\u001b[39m\u001b[38;5;124m__main__\u001b[39m\u001b[38;5;124m\"\u001b[39m:\n\u001b[1;32m---> 80\u001b[0m     \u001b[43mmain\u001b[49m\u001b[43m(\u001b[49m\u001b[43m)\u001b[49m\n",
      "Cell \u001b[1;32mIn[2], line 64\u001b[0m, in \u001b[0;36mmain\u001b[1;34m()\u001b[0m\n\u001b[0;32m     61\u001b[0m     label \u001b[38;5;241m=\u001b[39m \u001b[38;5;124mf\u001b[39m\u001b[38;5;124m\"\u001b[39m\u001b[38;5;132;01m{\u001b[39;00mclass_name\u001b[38;5;132;01m}\u001b[39;00m\u001b[38;5;124m \u001b[39m\u001b[38;5;132;01m{\u001b[39;00mconfidence\u001b[38;5;132;01m:\u001b[39;00m\u001b[38;5;124m.2f\u001b[39m\u001b[38;5;132;01m}\u001b[39;00m\u001b[38;5;124m\"\u001b[39m\n\u001b[0;32m     63\u001b[0m     \u001b[38;5;66;03m# 使用 0.26.1 版本的繪圖工具來畫出方框和標籤\u001b[39;00m\n\u001b[1;32m---> 64\u001b[0m     \u001b[43msv\u001b[49m\u001b[38;5;241;43m.\u001b[39;49m\u001b[43mdraw\u001b[49m\u001b[38;5;241;43m.\u001b[39;49m\u001b[43mbounding_box\u001b[49m(scene\u001b[38;5;241m=\u001b[39mannotated_frame, xyxy\u001b[38;5;241m=\u001b[39mbox)\n\u001b[0;32m     65\u001b[0m     sv\u001b[38;5;241m.\u001b[39mdraw\u001b[38;5;241m.\u001b[39mlabel(scene\u001b[38;5;241m=\u001b[39mannotated_frame, text\u001b[38;5;241m=\u001b[39mlabel, anchor\u001b[38;5;241m=\u001b[39msv\u001b[38;5;241m.\u001b[39mPoint(x\u001b[38;5;241m=\u001b[39mbox[\u001b[38;5;241m0\u001b[39m], y\u001b[38;5;241m=\u001b[39mbox[\u001b[38;5;241m1\u001b[39m]))\n\u001b[0;32m     67\u001b[0m \u001b[38;5;66;03m# 顯示結果影像\u001b[39;00m\n",
      "\u001b[1;31mAttributeError\u001b[0m: module 'supervision.draw' has no attribute 'bounding_box'"
     ]
    }
   ],
   "source": [
    "import cv2\n",
    "import supervision as sv\n",
    "from roboflow import Roboflow\n",
    "\n",
    "def main():\n",
    "    # --- 設定 ---\n",
    "    # 1. 將 'YOUR_API_KEY' 替換成您的 Roboflow Private API Key\n",
    "    # 2. 您可以在 Roboflow Universe 頁面上找到 project_id 和 version_number\n",
    "    API_KEY = \"UCLBeCClmaD7BW6BWuLG\"\n",
    "    PROJECT_ID = \"potato-detection-3et6q\"\n",
    "    MODEL_VERSION = 11  # 您可以更改為模型頁面上顯示的最新版本號\n",
    "\n",
    "    # --- 2. 初始化 Roboflow 模型 ---\n",
    "    # 程式會自動使用您環境中已設定好的 GPU\n",
    "    try:\n",
    "        rf = Roboflow(api_key=API_KEY)\n",
    "        project = rf.workspace().project(PROJECT_ID)\n",
    "        model = project.version(MODEL_VERSION).model\n",
    "        print(\"✅ 模型載入成功！正在使用 GPU 進行加速...\")\n",
    "    except Exception as e:\n",
    "        print(f\"❌ 模型載入失敗: {e}\")\n",
    "        return\n",
    "\n",
    "    # --- 3. 開啟 Webcam ---\n",
    "    cap = cv2.VideoCapture(0)\n",
    "    if not cap.isOpened():\n",
    "        print(\"❌ 無法開啟攝影機。\")\n",
    "        return\n",
    "\n",
    "    print(\"🚀 Webcam 已開啟，按下 'q' 鍵結束程式。\")\n",
    "\n",
    "    # --- 4. 即時偵測迴圈 ---\n",
    "    while True:\n",
    "        # 讀取影像幀\n",
    "        ret, frame = cap.read()\n",
    "        if not ret:\n",
    "            print(\"❌ 無法讀取影像幀。\")\n",
    "            break\n",
    "\n",
    "        # 使用 Roboflow 模型進行預測\n",
    "        results = model.predict(frame, confidence=40, overlap=30).json()\n",
    "\n",
    "        # 將 Roboflow 的預測結果轉換為 Supervision 的 Detections 物件\n",
    "        detections = sv.Detections.from_inference(results)\n",
    "\n",
    "        # --- 5. 使用 supervision 0.26.1 語法進行繪圖 ---\n",
    "        # 複製一幀影像用於繪圖\n",
    "        annotated_frame = frame.copy()\n",
    "        \n",
    "        # 遍歷所有偵測到的物件\n",
    "        for i in range(len(detections)):\n",
    "            # 從 detections 物件中取得邊界框座標 (xyxy格式)\n",
    "            box = detections.xyxy[i]\n",
    "            \n",
    "            # 從原始的 results 字典中取得類別名稱和信心度\n",
    "            prediction_info = results['predictions'][i]\n",
    "            class_name = prediction_info['class']\n",
    "            confidence = prediction_info['confidence']\n",
    "            \n",
    "            # 組合要顯示的標籤文字\n",
    "            label = f\"{class_name} {confidence:.2f}\"\n",
    "            \n",
    "            # 使用 0.26.1 版本的繪圖工具來畫出方框和標籤\n",
    "            sv.draw.bounding_box(scene=annotated_frame, xyxy=box)\n",
    "            sv.draw.label(scene=annotated_frame, text=label, anchor=sv.Point(x=box[0], y=box[1]))\n",
    "        \n",
    "        # 顯示結果影像\n",
    "        cv2.imshow(\"Potato Detection (GPU) - Press 'q' to exit\", annotated_frame)\n",
    "\n",
    "        # 按下 'q' 鍵即可退出\n",
    "        if cv2.waitKey(1) & 0xFF == ord('q'):\n",
    "            break\n",
    "\n",
    "    # --- 6. 清理資源 ---\n",
    "    cap.release()\n",
    "    cv2.destroyAllWindows()\n",
    "    print(\"👋 程式已結束。\")\n",
    "\n",
    "if __name__ == \"__main__\":\n",
    "    main()\n"
   ]
  },
  {
   "cell_type": "code",
   "execution_count": null,
   "id": "0501d944-773f-4b83-8d9e-f5005f9abdb6",
   "metadata": {},
   "outputs": [],
   "source": []
  }
 ],
 "metadata": {
  "kernelspec": {
   "display_name": "Python 3 (ipykernel)",
   "language": "python",
   "name": "python3"
  },
  "language_info": {
   "codemirror_mode": {
    "name": "ipython",
    "version": 3
   },
   "file_extension": ".py",
   "mimetype": "text/x-python",
   "name": "python",
   "nbconvert_exporter": "python",
   "pygments_lexer": "ipython3",
   "version": "3.9.23"
  }
 },
 "nbformat": 4,
 "nbformat_minor": 5
}
