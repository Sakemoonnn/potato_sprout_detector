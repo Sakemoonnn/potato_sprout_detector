{
 "cells": [
  {
   "cell_type": "code",
   "execution_count": 1,
   "id": "663cfb5d-1efd-47f9-97c1-fe80cfaa8437",
   "metadata": {},
   "outputs": [
    {
     "name": "stdout",
     "output_type": "stream",
     "text": [
      "PyTorch GPU is available: True\n",
      "Current GPU Name: NVIDIA GeForce RTX 3060 Laptop GPU\n"
     ]
    }
   ],
   "source": [
    "# check_gpu.py\n",
    "import torch\n",
    "\n",
    "is_available = torch.cuda.is_available()\n",
    "print(f\"PyTorch GPU is available: {is_available}\")\n",
    "\n",
    "if is_available:\n",
    "    print(f\"Current GPU Name: {torch.cuda.get_device_name(0)}\")"
   ]
  },
  {
   "cell_type": "code",
   "execution_count": null,
   "id": "8aff6dea-33ed-43e5-a168-c1b4b07c104e",
   "metadata": {},
   "outputs": [],
   "source": []
  }
 ],
 "metadata": {
  "kernelspec": {
   "display_name": "Python 3 (ipykernel)",
   "language": "python",
   "name": "python3"
  },
  "language_info": {
   "codemirror_mode": {
    "name": "ipython",
    "version": 3
   },
   "file_extension": ".py",
   "mimetype": "text/x-python",
   "name": "python",
   "nbconvert_exporter": "python",
   "pygments_lexer": "ipython3",
   "version": "3.9.23"
  }
 },
 "nbformat": 4,
 "nbformat_minor": 5
}
