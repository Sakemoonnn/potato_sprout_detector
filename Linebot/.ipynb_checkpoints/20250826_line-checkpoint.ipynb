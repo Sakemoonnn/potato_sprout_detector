{
 "cells": [
  {
   "cell_type": "code",
   "execution_count": 1,
   "id": "f2595cb0-423f-4946-9f4b-5dd015565f8c",
   "metadata": {},
   "outputs": [
    {
     "data": {
      "text/plain": [
       "'D:\\\\0_Sundry\\\\Jupyterlab\\\\20250826_potato_sprout_project\\\\Linebot'"
      ]
     },
     "execution_count": 1,
     "metadata": {},
     "output_type": "execute_result"
    }
   ],
   "source": [
    "import os\n",
    "os.getcwd()"
   ]
  },
  {
   "cell_type": "code",
   "execution_count": 2,
   "id": "e5e6bcf1-db49-4a70-b45a-7dc1409ea896",
   "metadata": {},
   "outputs": [],
   "source": [
    "from flask import Flask, request\n",
    "from pyngrok import ngrok\n",
    "from linebot import LineBotApi, WebhookHandler\n",
    "from linebot.models import TextSendMessage, MessageEvent, TextMessage\n",
    "import json\n",
    "from dotenv import load_dotenv"
   ]
  },
  {
   "cell_type": "markdown",
   "id": "a8fcff80-a34f-4e77-a53f-6380daa911bf",
   "metadata": {},
   "source": [
    "#### key"
   ]
  },
  {
   "cell_type": "code",
   "execution_count": 1,
   "id": "4bedb87d-1f7e-412f-be32-fd3ab9981d94",
   "metadata": {},
   "outputs": [
    {
     "name": "stdout",
     "output_type": "stream",
     "text": [
      "Overwriting .env\n"
     ]
    }
   ],
   "source": [
    "%%writefile .env\n",
    "# ngrok\n",
    "NGROK_AUTHTOKEN = '30fL2Ol11MYKNjH4QwW5m5zarBi_4gGD5uvVGxQC1AAN5mxKC'\n",
    "\n",
    "# Line Basic settings -> Channel secret\n",
    "LINE_CHANNEL_SECRET = 'c0d5d80e5e72627356acec18aad76a75'\n",
    "# Line Messaging API -> Channel access token\n",
    "LINE_CHANNEL_ACCESS_TOKEN = 'wsrdGKz4GVNDOmBziacS5WXX4C/f/5Gojxl3X+Merxaovqjqzyz999nWrkOueOrycLgF4qQv2tYoeRk6ZYQdKzR9SH3PijDiRaj5GpyXRrpoq6fXt4kJBhqsyABs/jlfawyDOHWg44/AgCvKZjejKgdB04t89/1O/w1cDnyilFU='\n",
    "\n",
    "ROBOFLOW_API_KEY = \"UCLBeCClmaD7BW6BWuLG\""
   ]
  },
  {
   "cell_type": "code",
   "execution_count": 4,
   "id": "9879f2bf-b0ba-4a43-afc5-9a259f35b286",
   "metadata": {},
   "outputs": [
    {
     "name": "stdout",
     "output_type": "stream",
     "text": [
      "UCLBeCClmaD7BW6BWuLG\n",
      "讀取完成!\n"
     ]
    }
   ],
   "source": [
    "import os\n",
    "from dotenv import load_dotenv\n",
    "\n",
    "load_dotenv()    # 讀取同目錄的 .env\n",
    "\n",
    "NGROK_AUTHTOKEN = os.getenv(\"NGROK_AUTHTOKEN\")\n",
    "CHANNEL_SECRET = os.getenv(\"LINE_CHANNEL_SECRET\")\n",
    "CHANNEL_ACCESS_TOKEN = os.getenv(\"LINE_CHANNEL_ACCESS_TOKEN\")\n",
    "ROBOFLOW_API_KEY = os.getenv(\"ROBOFLOW_API_KEY\")\n",
    "\n",
    "print(ROBOFLOW_API_KEY)\n",
    "\n",
    "print('讀取完成!')"
   ]
  },
  {
   "cell_type": "markdown",
   "id": "eece850b-40da-4d15-be06-99dfcfa3e0f7",
   "metadata": {},
   "source": [
    "#### code"
   ]
  },
  {
   "cell_type": "code",
   "execution_count": 5,
   "id": "48d61d8f-7d28-4752-88ff-a7b4a319db96",
   "metadata": {},
   "outputs": [],
   "source": [
    "# import os\n",
    "# import io\n",
    "# from dotenv import load_dotenv\n",
    "# from flask import Flask, request, abort\n",
    "# from pyngrok import ngrok\n",
    "# from linebot import LineBotApi, WebhookHandler\n",
    "# from linebot.exceptions import InvalidSignatureError\n",
    "# from linebot.models import MessageEvent, TextSendMessage, ImageMessage\n",
    "# import cv2\n",
    "# import tensorflow as tf\n",
    "# from tensorflow.keras.applications.resnet_v2 import preprocess_input\n",
    "# from PIL import Image\n",
    "# import numpy as np\n",
    "\n",
    "# # --- 步驟 1: 載入環境變數 ---\n",
    "# # 載入 .env 檔案中的環境變數\n",
    "# load_dotenv()\n",
    "\n",
    "# # 從環境變數取得密鑰\n",
    "# ACCESS_TOKEN = os.getenv('LINE_CHANNEL_ACCESS_TOKEN')\n",
    "# CHANNEL_SECRET = os.getenv('LINE_CHANNEL_SECRET')\n",
    "# NGROK_AUTHTOKEN = os.getenv('NGROK_AUTHTOKEN')\n",
    "\n",
    "# # --- 步驟 2: 初始化 Flask、Line Bot 和 ngrok ---\n",
    "# app = Flask(__name__)\n",
    "\n",
    "# # 初始化 Line Bot API\n",
    "# line_bot_api = LineBotApi(ACCESS_TOKEN)\n",
    "# handler = WebhookHandler(CHANNEL_SECRET)\n",
    "\n",
    "# # 設定 ngrok authtoken 並啟動通道\n",
    "# # 程式啟動時，會自動建立一個 ngrok 公開網址\n",
    "# ngrok.set_auth_token(NGROK_AUTHTOKEN)\n",
    "# public_url = ngrok.connect(5000).public_url\n",
    "# print(f\"公開網址 (Webhook URL): {public_url}/callback\")\n",
    "\n",
    "# # 將 ngrok 網址設定到 Line Developer Console\n",
    "# # 這一步會自動幫您更新 Webhook URL\n",
    "# line_bot_api.set_webhook_endpoint(f\"{public_url}/callback\")\n",
    "\n",
    "\n",
    "# # --- 步驟 3: 載入並設定 AI 模型 ---\n",
    "# # 載入您訓練好的 Keras 模型\n",
    "# MODEL_PATH = '20250826_potato_classifier_model.keras'\n",
    "# try:\n",
    "#     model = tf.keras.models.load_model(MODEL_PATH)\n",
    "#     print(f\"模型 '{MODEL_PATH}' 載入成功。\")\n",
    "# except Exception as e:\n",
    "#     print(f\"錯誤：無法載入模型 '{MODEL_PATH}'。請確認檔案路徑是否正確。\")\n",
    "#     print(e)\n",
    "#     # 如果模型載入失敗，可以選擇退出程式\n",
    "#     exit()\n",
    "\n",
    "# # 根據您的訓練設定，定義圖片大小\n",
    "# IMAGE_SIZE = (224, 224)\n",
    "\n",
    "# def predict_potato(image_bytes):\n",
    "#     \"\"\"\n",
    "#     接收圖片的 bytes，進行預處理並回傳預測機率。\n",
    "#     \"\"\"\n",
    "#     try:\n",
    "#         # 將 bytes 轉換為圖片\n",
    "#         img = Image.open(io.BytesIO(image_bytes)).convert('RGB')\n",
    "#         # 調整圖片大小以符合模型輸入\n",
    "#         img = img.resize(IMAGE_SIZE)\n",
    "#         img = cv2.cvtColor(img, cv2.COLOR_BGR2RGB)\n",
    "#         # img_array = tf.expand_dims(img, 0) # 為模型預測建立一個 batch\n",
    "        \n",
    "#         # 轉換為 numpy array\n",
    "#         img_array = np.array(img)\n",
    "#         # 擴展維度以建立一個 batch (1, 224, 224, 3)\n",
    "#         img_array = np.expand_dims(img_array, axis=0)\n",
    "        \n",
    "#         # 使用與訓練時相同的 ResNetV2 預處理函式\n",
    "#         preprocessed_img = preprocess_input(img_array)\n",
    "        \n",
    "#         # 進行預測\n",
    "#         prediction = model.predict(preprocessed_img)\n",
    "#         score = prediction[0][0]\n",
    "        \n",
    "#         return score\n",
    "#     except Exception as e:\n",
    "#         print(f\"模型預測時發生錯誤: {e}\")\n",
    "#         return None\n",
    "\n",
    "# # --- 步驟 4: Flask 路由與 Line Bot 訊息處理 ---\n",
    "# # 監聽來自 Line 的 Webhook 請求\n",
    "# @app.route(\"/callback\", methods=['POST'])\n",
    "# def callback():\n",
    "#     signature = request.headers['X-Line-Signature']\n",
    "#     body = request.get_data(as_text=True)\n",
    "#     app.logger.info(\"Request body: \" + body)\n",
    "    \n",
    "#     try:\n",
    "#         handler.handle(body, signature)\n",
    "#     except InvalidSignatureError:\n",
    "#         abort(400)\n",
    "            \n",
    "#     return 'OK'\n",
    "\n",
    "# # 處理圖片訊息\n",
    "# @handler.add(MessageEvent, message=ImageMessage)\n",
    "# def handle_image_message(event):\n",
    "#     # 從 Line 取得使用者上傳的圖片內容\n",
    "#     message_content = line_bot_api.get_message_content(event.message.id)\n",
    "#     image_bytes = message_content.content\n",
    "    \n",
    "#     # 進行預測\n",
    "#     score = predict_potato(image_bytes)\n",
    "    \n",
    "#     if score is not None:\n",
    "#         # 根據分數產生回覆訊息\n",
    "#         if score > 0.5:\n",
    "#             reply_text = f\"分析結果：\\n這顆馬鈴薯已發芽的機率是: {100 * score:.2f}%\"\n",
    "#         else:\n",
    "#             reply_text = f\"分析結果：\\n這顆馬鈴薯未發芽的機率是: {100 * (1 - score):.2f}%\"\n",
    "#     else:\n",
    "#         reply_text = \"圖片分析失敗，請稍後再試一次。\"\n",
    "\n",
    "#     # 將結果回傳給使用者\n",
    "#     line_bot_api.reply_message(\n",
    "#         event.reply_token,\n",
    "#         TextSendMessage(text=reply_text)\n",
    "#     )\n",
    "\n",
    "# # 處理文字訊息 (提供說明)\n",
    "# @handler.add(MessageEvent, message=TextMessage)\n",
    "# def handle_text_message(event):\n",
    "#     line_bot_api.reply_message(\n",
    "#         event.reply_token,\n",
    "#         TextSendMessage(text=\"您好！請直接傳送一張馬鈴薯的圖片給我，我會幫您分析它是否發芽。\")\n",
    "#     )\n",
    "\n",
    "# # --- 步驟 5: 啟動伺服器 ---\n",
    "# if __name__ == \"__main__\":\n",
    "#     # 啟動 Flask 應用程式\n",
    "#     # pyngrok 會自動處理外部請求的轉發\n",
    "#     app.run(port=5000)\n"
   ]
  },
  {
   "cell_type": "code",
   "execution_count": null,
   "id": "d8e236dc-4599-4030-88df-79d78b86a598",
   "metadata": {},
   "outputs": [
    {
     "name": "stderr",
     "output_type": "stream",
     "text": [
      "C:\\Users\\User\\AppData\\Local\\Temp\\ipykernel_28280\\2647292363.py:24: LineBotSdkDeprecatedIn30: Call to deprecated class LineBotApi. (Use v3 class; linebot.v3.<feature>. See https://github.com/line/line-bot-sdk-python/blob/master/README.rst for more details.) -- Deprecated since version 3.0.0.\n",
      "  line_bot_api = LineBotApi(ACCESS_TOKEN)\n",
      "C:\\Users\\User\\AppData\\Local\\Temp\\ipykernel_28280\\2647292363.py:25: LineBotSdkDeprecatedIn30: Call to deprecated class WebhookHandler. (Use 'from linebot.v3.webhook import WebhookHandler' instead. See https://github.com/line/line-bot-sdk-python/blob/master/README.rst for more details.) -- Deprecated since version 3.0.0.\n",
      "  handler = WebhookHandler(CHANNEL_SECRET)\n"
     ]
    },
    {
     "name": "stdout",
     "output_type": "stream",
     "text": [
      "公開網址 (Webhook URL): https://ead55596999f.ngrok-free.app/callback\n"
     ]
    },
    {
     "name": "stderr",
     "output_type": "stream",
     "text": [
      "C:\\Users\\User\\AppData\\Local\\Temp\\ipykernel_28280\\2647292363.py:30: LineBotSdkDeprecatedIn30: Call to deprecated method set_webhook_endpoint. (Use 'from linebot.v3.messaging import MessagingApi' and 'MessagingApi(...).set_webhook_endpoint(...)' instead. See https://github.com/line/line-bot-sdk-python/blob/master/README.rst for more details.) -- Deprecated since version 3.0.0.\n",
      "  line_bot_api.set_webhook_endpoint(f\"{public_url}/callback\")\n"
     ]
    },
    {
     "name": "stdout",
     "output_type": "stream",
     "text": [
      "模型 'best_potato_model.keras' 載入成功。\n",
      " * Serving Flask app '__main__'\n",
      " * Debug mode: off\n"
     ]
    },
    {
     "name": "stderr",
     "output_type": "stream",
     "text": [
      "WARNING: This is a development server. Do not use it in a production deployment. Use a production WSGI server instead.\n",
      " * Running on http://127.0.0.1:5000\n",
      "Press CTRL+C to quit\n",
      "127.0.0.1 - - [26/Aug/2025 17:10:21] \"POST /callback HTTP/1.1\" 200 -\n",
      "C:\\Users\\User\\AppData\\Local\\Temp\\ipykernel_28280\\2647292363.py:94: LineBotSdkDeprecatedIn30: Call to deprecated method get_message_content. (Use 'from linebot.v3.messaging import MessagingApiBlob' and 'MessagingApiBlob(...).get_message_content(...)' instead. See https://github.com/line/line-bot-sdk-python/blob/master/README.rst for more details.) -- Deprecated since version 3.0.0.\n",
      "  message_content = line_bot_api.get_message_content(event.message.id)\n"
     ]
    },
    {
     "name": "stdout",
     "output_type": "stream",
     "text": [
      "1/1 [==============================] - 1s 582ms/step\n"
     ]
    },
    {
     "name": "stderr",
     "output_type": "stream",
     "text": [
      "C:\\Users\\User\\AppData\\Local\\Temp\\ipykernel_28280\\2647292363.py:107: LineBotSdkDeprecatedIn30: Call to deprecated method reply_message. (Use 'from linebot.v3.messaging import MessagingApi' and 'MessagingApi(...).reply_message(...)' instead. See https://github.com/line/line-bot-sdk-python/blob/master/README.rst for more details.) -- Deprecated since version 3.0.0.\n",
      "  line_bot_api.reply_message(\n",
      "127.0.0.1 - - [26/Aug/2025 17:10:30] \"POST /callback HTTP/1.1\" 200 -\n"
     ]
    },
    {
     "name": "stdout",
     "output_type": "stream",
     "text": [
      "1/1 [==============================] - 0s 21ms/step\n"
     ]
    },
    {
     "name": "stderr",
     "output_type": "stream",
     "text": [
      "127.0.0.1 - - [26/Aug/2025 17:10:38] \"POST /callback HTTP/1.1\" 200 -\n"
     ]
    },
    {
     "name": "stdout",
     "output_type": "stream",
     "text": [
      "1/1 [==============================] - 0s 22ms/step\n"
     ]
    },
    {
     "name": "stderr",
     "output_type": "stream",
     "text": [
      "127.0.0.1 - - [26/Aug/2025 17:10:48] \"POST /callback HTTP/1.1\" 200 -\n"
     ]
    },
    {
     "name": "stdout",
     "output_type": "stream",
     "text": [
      "1/1 [==============================] - 0s 22ms/step\n"
     ]
    },
    {
     "name": "stderr",
     "output_type": "stream",
     "text": [
      "127.0.0.1 - - [26/Aug/2025 17:11:00] \"POST /callback HTTP/1.1\" 200 -\n"
     ]
    },
    {
     "name": "stdout",
     "output_type": "stream",
     "text": [
      "1/1 [==============================] - 0s 22ms/step\n"
     ]
    },
    {
     "name": "stderr",
     "output_type": "stream",
     "text": [
      "127.0.0.1 - - [26/Aug/2025 17:11:07] \"POST /callback HTTP/1.1\" 200 -\n"
     ]
    },
    {
     "name": "stdout",
     "output_type": "stream",
     "text": [
      "1/1 [==============================] - 0s 21ms/step\n"
     ]
    },
    {
     "name": "stderr",
     "output_type": "stream",
     "text": [
      "127.0.0.1 - - [26/Aug/2025 17:11:23] \"POST /callback HTTP/1.1\" 200 -\n"
     ]
    },
    {
     "name": "stdout",
     "output_type": "stream",
     "text": [
      "1/1 [==============================] - 0s 41ms/step\n"
     ]
    },
    {
     "name": "stderr",
     "output_type": "stream",
     "text": [
      "127.0.0.1 - - [26/Aug/2025 17:12:50] \"POST /callback HTTP/1.1\" 200 -\n"
     ]
    },
    {
     "name": "stdout",
     "output_type": "stream",
     "text": [
      "1/1 [==============================] - 0s 22ms/step\n"
     ]
    },
    {
     "name": "stderr",
     "output_type": "stream",
     "text": [
      "127.0.0.1 - - [26/Aug/2025 17:12:59] \"POST /callback HTTP/1.1\" 200 -\n"
     ]
    },
    {
     "name": "stdout",
     "output_type": "stream",
     "text": [
      "1/1 [==============================] - 0s 29ms/step\n"
     ]
    },
    {
     "name": "stderr",
     "output_type": "stream",
     "text": [
      "127.0.0.1 - - [26/Aug/2025 17:13:08] \"POST /callback HTTP/1.1\" 200 -\n"
     ]
    },
    {
     "name": "stdout",
     "output_type": "stream",
     "text": [
      "1/1 [==============================] - 0s 22ms/step\n"
     ]
    },
    {
     "name": "stderr",
     "output_type": "stream",
     "text": [
      "127.0.0.1 - - [26/Aug/2025 17:13:25] \"POST /callback HTTP/1.1\" 200 -\n"
     ]
    },
    {
     "name": "stdout",
     "output_type": "stream",
     "text": [
      "1/1 [==============================] - 0s 22ms/step\n"
     ]
    },
    {
     "name": "stderr",
     "output_type": "stream",
     "text": [
      "127.0.0.1 - - [26/Aug/2025 17:13:31] \"POST /callback HTTP/1.1\" 200 -\n"
     ]
    },
    {
     "name": "stdout",
     "output_type": "stream",
     "text": [
      "1/1 [==============================] - 0s 23ms/step\n"
     ]
    },
    {
     "name": "stderr",
     "output_type": "stream",
     "text": [
      "127.0.0.1 - - [26/Aug/2025 17:17:35] \"POST /callback HTTP/1.1\" 200 -\n"
     ]
    },
    {
     "name": "stdout",
     "output_type": "stream",
     "text": [
      "1/1 [==============================] - 0s 21ms/step\n"
     ]
    },
    {
     "name": "stderr",
     "output_type": "stream",
     "text": [
      "127.0.0.1 - - [26/Aug/2025 17:25:31] \"POST /callback HTTP/1.1\" 200 -\n"
     ]
    },
    {
     "name": "stdout",
     "output_type": "stream",
     "text": [
      "1/1 [==============================] - 0s 22ms/step\n"
     ]
    },
    {
     "name": "stderr",
     "output_type": "stream",
     "text": [
      "127.0.0.1 - - [26/Aug/2025 17:25:42] \"POST /callback HTTP/1.1\" 200 -\n"
     ]
    },
    {
     "name": "stdout",
     "output_type": "stream",
     "text": [
      "1/1 [==============================] - 0s 22ms/step\n"
     ]
    },
    {
     "name": "stderr",
     "output_type": "stream",
     "text": [
      "127.0.0.1 - - [26/Aug/2025 17:27:47] \"POST /callback HTTP/1.1\" 200 -\n"
     ]
    },
    {
     "name": "stdout",
     "output_type": "stream",
     "text": [
      "1/1 [==============================] - 0s 24ms/step\n"
     ]
    },
    {
     "name": "stderr",
     "output_type": "stream",
     "text": [
      "127.0.0.1 - - [26/Aug/2025 17:30:34] \"POST /callback HTTP/1.1\" 200 -\n"
     ]
    },
    {
     "name": "stdout",
     "output_type": "stream",
     "text": [
      "1/1 [==============================] - 0s 21ms/step\n"
     ]
    },
    {
     "name": "stderr",
     "output_type": "stream",
     "text": [
      "127.0.0.1 - - [26/Aug/2025 17:30:45] \"POST /callback HTTP/1.1\" 200 -\n"
     ]
    },
    {
     "name": "stdout",
     "output_type": "stream",
     "text": [
      "1/1 [==============================] - 0s 21ms/step\n"
     ]
    },
    {
     "name": "stderr",
     "output_type": "stream",
     "text": [
      "127.0.0.1 - - [26/Aug/2025 17:30:54] \"POST /callback HTTP/1.1\" 200 -\n"
     ]
    },
    {
     "name": "stdout",
     "output_type": "stream",
     "text": [
      "1/1 [==============================] - 0s 23ms/step\n"
     ]
    },
    {
     "name": "stderr",
     "output_type": "stream",
     "text": [
      "127.0.0.1 - - [26/Aug/2025 17:31:12] \"POST /callback HTTP/1.1\" 200 -\n"
     ]
    },
    {
     "name": "stdout",
     "output_type": "stream",
     "text": [
      "1/1 [==============================] - 0s 23ms/step\n"
     ]
    },
    {
     "name": "stderr",
     "output_type": "stream",
     "text": [
      "127.0.0.1 - - [26/Aug/2025 17:31:22] \"POST /callback HTTP/1.1\" 200 -\n"
     ]
    },
    {
     "name": "stdout",
     "output_type": "stream",
     "text": [
      "1/1 [==============================] - 0s 21ms/step\n"
     ]
    },
    {
     "name": "stderr",
     "output_type": "stream",
     "text": [
      "127.0.0.1 - - [26/Aug/2025 17:31:30] \"POST /callback HTTP/1.1\" 200 -\n"
     ]
    },
    {
     "name": "stdout",
     "output_type": "stream",
     "text": [
      "1/1 [==============================] - 0s 24ms/step\n"
     ]
    },
    {
     "name": "stderr",
     "output_type": "stream",
     "text": [
      "127.0.0.1 - - [26/Aug/2025 17:31:39] \"POST /callback HTTP/1.1\" 200 -\n"
     ]
    },
    {
     "name": "stdout",
     "output_type": "stream",
     "text": [
      "1/1 [==============================] - 0s 25ms/step\n"
     ]
    },
    {
     "name": "stderr",
     "output_type": "stream",
     "text": [
      "127.0.0.1 - - [26/Aug/2025 17:32:32] \"POST /callback HTTP/1.1\" 200 -\n"
     ]
    },
    {
     "name": "stdout",
     "output_type": "stream",
     "text": [
      "1/1 [==============================] - 0s 22ms/step\n"
     ]
    },
    {
     "name": "stderr",
     "output_type": "stream",
     "text": [
      "127.0.0.1 - - [26/Aug/2025 17:33:19] \"POST /callback HTTP/1.1\" 200 -\n"
     ]
    }
   ],
   "source": [
    "import os\n",
    "import io\n",
    "from dotenv import load_dotenv\n",
    "from flask import Flask, request, abort\n",
    "from pyngrok import ngrok\n",
    "from linebot import LineBotApi, WebhookHandler\n",
    "from linebot.exceptions import InvalidSignatureError\n",
    "from linebot.models import MessageEvent, TextSendMessage, ImageMessage\n",
    "\n",
    "import tensorflow as tf\n",
    "from tensorflow.keras.applications.resnet_v2 import preprocess_input\n",
    "# 移除 PIL，改用 OpenCV\n",
    "import cv2 \n",
    "import numpy as np\n",
    "\n",
    "# --- 步驟 1: 載入環境變數 ---\n",
    "load_dotenv()\n",
    "ACCESS_TOKEN = os.getenv('LINE_CHANNEL_ACCESS_TOKEN')\n",
    "CHANNEL_SECRET = os.getenv('LINE_CHANNEL_SECRET')\n",
    "NGROK_AUTHTOKEN = os.getenv('NGROK_AUTHTOKEN')\n",
    "\n",
    "# --- 步驟 2: 初始化 Flask、Line Bot 和 ngrok ---\n",
    "app = Flask(__name__)\n",
    "line_bot_api = LineBotApi(ACCESS_TOKEN)\n",
    "handler = WebhookHandler(CHANNEL_SECRET)\n",
    "\n",
    "ngrok.set_auth_token(NGROK_AUTHTOKEN)\n",
    "public_url = ngrok.connect(5000).public_url\n",
    "print(f\"公開網址 (Webhook URL): {public_url}/callback\")\n",
    "line_bot_api.set_webhook_endpoint(f\"{public_url}/callback\")\n",
    "\n",
    "# --- 步驟 3: 載入並設定 AI 模型 ---\n",
    "MODEL_PATH = 'best_potato_model.keras'\n",
    "try:\n",
    "    model = tf.keras.models.load_model(MODEL_PATH)\n",
    "    print(f\"模型 '{MODEL_PATH}' 載入成功。\")\n",
    "except Exception as e:\n",
    "    print(f\"錯誤：無法載入模型 '{MODEL_PATH}'。請確認檔案路徑是否正確。\")\n",
    "    print(e)\n",
    "    exit()\n",
    "\n",
    "IMAGE_SIZE = (224, 224)\n",
    "\n",
    "# --- ★★★ 修改後的預測函式 ★★★ ---\n",
    "def predict_potato(image_bytes):\n",
    "    \"\"\"\n",
    "    使用 OpenCV 進行圖片預處理，確保與 Jupyter Notebook 流程一致。\n",
    "    \"\"\"\n",
    "    try:\n",
    "        # 1. 將 bytes 轉換為 numpy array\n",
    "        np_arr = np.frombuffer(image_bytes, np.uint8)\n",
    "        \n",
    "        # 2. 使用 cv2 從 array 解碼圖片，預設為 BGR 格式\n",
    "        img_bgr = cv2.imdecode(np_arr, cv2.IMREAD_COLOR)\n",
    "        \n",
    "        # 3. 將圖片從 BGR 轉換為 RGB (和您筆記本中的做法相同)\n",
    "        img_rgb = cv2.cvtColor(img_bgr, cv2.COLOR_BGR2RGB)\n",
    "        \n",
    "        # 4. 調整圖片大小以符合模型輸入\n",
    "        img_resized = cv2.resize(img_rgb, IMAGE_SIZE)\n",
    "        \n",
    "        # 5. 擴展維度以建立一個 batch (1, 224, 224, 3)\n",
    "        img_array = np.expand_dims(img_resized, axis=0)\n",
    "        \n",
    "        # 6. 使用與訓練時相同的 ResNetV2 預處理函式\n",
    "        # preprocessed_img = preprocess_input(img_array)\n",
    "        \n",
    "        # 7. 進行預測\n",
    "        # prediction = model.predict(preprocessed_img)\n",
    "        prediction = model.predict(img_array)\n",
    "        score = prediction[0][0]\n",
    "        \n",
    "        return score\n",
    "    except Exception as e:\n",
    "        print(f\"模型預測時發生錯誤: {e}\")\n",
    "        return None\n",
    "\n",
    "# --- 步驟 4: Flask 路由與 Line Bot 訊息處理 (維持不變) ---\n",
    "@app.route(\"/callback\", methods=['POST'])\n",
    "def callback():\n",
    "    signature = request.headers['X-Line-Signature']\n",
    "    body = request.get_data(as_text=True)\n",
    "    app.logger.info(\"Request body: \" + body)\n",
    "    \n",
    "    try:\n",
    "        handler.handle(body, signature)\n",
    "    except InvalidSignatureError:\n",
    "        abort(400)\n",
    "            \n",
    "    return 'OK'\n",
    "\n",
    "@handler.add(MessageEvent, message=ImageMessage)\n",
    "def handle_image_message(event):\n",
    "    message_content = line_bot_api.get_message_content(event.message.id)\n",
    "    image_bytes = message_content.content\n",
    "    \n",
    "    score = predict_potato(image_bytes)\n",
    "    \n",
    "    if score is not None:\n",
    "        if score > 0.5:\n",
    "            reply_text = f\"分析結果：\\n這顆馬鈴薯已發芽的機率是: {100 * score:.2f}%\"\n",
    "        else:\n",
    "            reply_text = f\"分析結果：\\n這顆馬鈴薯未發芽的機率是: {100 * (1 - score):.2f}%\"\n",
    "    else:\n",
    "        reply_text = \"圖片分析失敗，請稍後再試一次。\"\n",
    "\n",
    "    line_bot_api.reply_message(\n",
    "        event.reply_token,\n",
    "        TextSendMessage(text=reply_text)\n",
    "    )\n",
    "\n",
    "@handler.add(MessageEvent, message=TextMessage)\n",
    "def handle_text_message(event):\n",
    "    line_bot_api.reply_message(\n",
    "        event.reply_token,\n",
    "        TextSendMessage(text=\"您好！請直接傳送一張馬鈴薯的圖片給我，我會幫您分析它是否發芽。\")\n",
    "    )\n",
    "\n",
    "# --- 步驟 5: 啟動伺服器 ---\n",
    "if __name__ == \"__main__\":\n",
    "    app.run(port=5000)\n"
   ]
  },
  {
   "cell_type": "code",
   "execution_count": null,
   "id": "518677c7-976e-4556-8802-affbb4802bf3",
   "metadata": {},
   "outputs": [],
   "source": []
  }
 ],
 "metadata": {
  "kernelspec": {
   "display_name": "Python 3 (ipykernel)",
   "language": "python",
   "name": "python3"
  },
  "language_info": {
   "codemirror_mode": {
    "name": "ipython",
    "version": 3
   },
   "file_extension": ".py",
   "mimetype": "text/x-python",
   "name": "python",
   "nbconvert_exporter": "python",
   "pygments_lexer": "ipython3",
   "version": "3.9.23"
  }
 },
 "nbformat": 4,
 "nbformat_minor": 5
}
